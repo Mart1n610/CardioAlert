{
  "nbformat": 4,
  "nbformat_minor": 0,
  "metadata": {
    "colab": {
      "provenance": [],
      "authorship_tag": "ABX9TyMWqgnnmXh19pkTq/Ggu9AX",
      "include_colab_link": true
    },
    "kernelspec": {
      "name": "python3",
      "display_name": "Python 3"
    },
    "language_info": {
      "name": "python"
    }
  },
  "cells": [
    {
      "cell_type": "markdown",
      "metadata": {
        "id": "view-in-github",
        "colab_type": "text"
      },
      "source": [
        "<a href=\"https://colab.research.google.com/github/Mart1n610/CardioAlert/blob/main/CardioAlert.ipynb\" target=\"_parent\"><img src=\"https://colab.research.google.com/assets/colab-badge.svg\" alt=\"Open In Colab\"/></a>"
      ]
    },
    {
      "cell_type": "code",
      "execution_count": null,
      "metadata": {
        "id": "jjIzsCTjgqwr"
      },
      "outputs": [],
      "source": [
        "import numpy as np\n",
        "import google.colab as drive"
      ]
    },
    {
      "cell_type": "code",
      "source": [
        "drive.mount('/content/drive')"
      ],
      "metadata": {
        "id": "T3FO7tNPQ0Nb"
      },
      "execution_count": null,
      "outputs": []
    },
    {
      "cell_type": "code",
      "source": [
        "señalPrueba = [1, 2, 3, 4, 5, 4, 3, 2, 1]\n",
        "ventanaHamming = np.hamming(len(señal))\n",
        "señalVentana = señalPrueba * ventanaHamming"
      ],
      "metadata": {
        "id": "8my5izMNoQzC"
      },
      "execution_count": null,
      "outputs": []
    },
    {
      "cell_type": "code",
      "source": [
        "fourierft = np.fft.fft(señalVentana)\n",
        "frecuenciaseñalp = 100 #frecuencia de prueba de 100 Hz\n",
        "frecuenciaCardio = np.argmax(np.abs(fourierft)) * (frecuenciaseñalp / len(señalPrueba))"
      ],
      "metadata": {
        "id": "OhIne8wyoaCP"
      },
      "execution_count": null,
      "outputs": []
    },
    {
      "cell_type": "code",
      "source": [],
      "metadata": {
        "id": "KGhzIUxWpRqe"
      },
      "execution_count": null,
      "outputs": []
    }
  ]
}
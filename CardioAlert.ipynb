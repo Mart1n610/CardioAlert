{
  "nbformat": 4,
  "nbformat_minor": 0,
  "metadata": {
    "colab": {
      "provenance": [],
      "authorship_tag": "ABX9TyPPnu7VaCuJ10akH7P6GrJm",
      "include_colab_link": true
    },
    "kernelspec": {
      "name": "python3",
      "display_name": "Python 3"
    },
    "language_info": {
      "name": "python"
    }
  },
  "cells": [
    {
      "cell_type": "markdown",
      "metadata": {
        "id": "view-in-github",
        "colab_type": "text"
      },
      "source": [
        "<a href=\"https://colab.research.google.com/github/Mart1n610/CardioAlert/blob/main/CardioAlert.ipynb\" target=\"_parent\"><img src=\"https://colab.research.google.com/assets/colab-badge.svg\" alt=\"Open In Colab\"/></a>"
      ]
    },
    {
      "cell_type": "code",
      "execution_count": 1,
      "metadata": {
        "id": "jjIzsCTjgqwr"
      },
      "outputs": [],
      "source": [
        "import numpy as np"
      ]
    },
    {
      "cell_type": "code",
      "source": [
        "señalPrueba = [1, 2, 3, 4, 5, 4, 3, 2, 1]\n",
        "ventanaHamming = np.hamming(len(señalPrueba))\n",
        "señalVentana = señalPrueba * ventanaHamming"
      ],
      "metadata": {
        "id": "8my5izMNoQzC"
      },
      "execution_count": 2,
      "outputs": []
    },
    {
      "cell_type": "code",
      "source": [
        "fourierft = np.fft.fft(señalVentana)\n",
        "frecuenciaseñalp = 100 #frecuencia de prueba de 100 Hz\n",
        "frecuenciaCardio = np.argmax(np.abs(fourierft)) * (frecuenciaseñalp / len(señalPrueba))\n",
        "print(frecuenciaCardio)"
      ],
      "metadata": {
        "id": "OhIne8wyoaCP",
        "colab": {
          "base_uri": "https://localhost:8080/"
        },
        "outputId": "aa6da828-39c8-4eca-88f9-834332f9d1a1"
      },
      "execution_count": 3,
      "outputs": [
        {
          "output_type": "stream",
          "name": "stdout",
          "text": [
            "0.0\n"
          ]
        }
      ]
    },
    {
      "cell_type": "code",
      "source": [
        "def detectarPicos(señalPrueba):\n",
        "  picos = []\n",
        "  for i in range(1, len(señalPrueba)-1):\n",
        "    if picos[i]>señalPrueba[i-1] and señalPrueba[i]>señalPrueba[i+1]:\n",
        "      picos.append(i)\n",
        "  return picos"
      ],
      "metadata": {
        "id": "hMP9Xe2qUQdk"
      },
      "execution_count": 7,
      "outputs": []
    }
  ]
}